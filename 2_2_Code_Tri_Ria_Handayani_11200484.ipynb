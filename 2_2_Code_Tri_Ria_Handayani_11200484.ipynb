{
  "nbformat": 4,
  "nbformat_minor": 0,
  "metadata": {
    "colab": {
      "name": "2_2_Code_Tri Ria Handayani_11200484",
      "provenance": [],
      "collapsed_sections": []
    },
    "kernelspec": {
      "name": "python3",
      "display_name": "Python 3"
    }
  },
  "cells": [
    {
      "cell_type": "code",
      "metadata": {
        "id": "QChNmnXf_-pE"
      },
      "source": [
        ""
      ],
      "execution_count": null,
      "outputs": []
    },
    {
      "cell_type": "markdown",
      "metadata": {
        "id": "CQqHfxdyArzJ"
      },
      "source": [
        "##Code Hello World\n",
        "Struktur code pada Python relatif sangat sederhana dan tidak terlalu rumit seperti pada Java ataupun C. Selain karena memang mudah dibaca, python juga termasuk pada high level programming language. Sebagai contoh, cobalah ketik coding pada Code Editor dengan perintah berikut untuk mengeluarkan kata-kata yang diperintahkan. Ekskusilah perintah dari kode dibawah ini."
      ]
    },
    {
      "cell_type": "code",
      "metadata": {
        "id": "oBXKvs3qA2Xb",
        "colab": {
          "base_uri": "https://localhost:8080/"
        },
        "outputId": "25ef559e-81d4-4e11-a155-46947e5d7fe9"
      },
      "source": [
        "print (\"Hello World\")"
      ],
      "execution_count": 1,
      "outputs": [
        {
          "output_type": "stream",
          "name": "stdout",
          "text": [
            "Hello World\n"
          ]
        }
      ]
    },
    {
      "cell_type": "markdown",
      "metadata": {
        "id": "8yPh4FQWA_DU"
      },
      "source": [
        "Coba lanjutkan code tersebut pada baris selanjutnya dengan menggunakan kode ini :"
      ]
    },
    {
      "cell_type": "code",
      "metadata": {
        "id": "Yy5gqIzRBApb",
        "colab": {
          "base_uri": "https://localhost:8080/"
        },
        "outputId": "39b1814c-75af-4f30-985b-522ca1ab17ac"
      },
      "source": [
        "print (\"Hello World\")\n",
        "print(5+1)"
      ],
      "execution_count": 2,
      "outputs": [
        {
          "output_type": "stream",
          "name": "stdout",
          "text": [
            "Hello World\n",
            "6\n"
          ]
        }
      ]
    },
    {
      "cell_type": "markdown",
      "metadata": {
        "id": "PQsFFoqjBJm0"
      },
      "source": [
        "***Note : setiap print akan mencetak baris baru.***\n",
        "\n",
        "Memang terlihat sangat sederhana jika hanya untuk kasus sederhana yang kita pelajari pada section kali ini. Namun, python tidak sesederhana itu. Biasanya kita juga menggunakan import library khusus jika sudah menyangkut masalah yang lebih kompleks. Materi berikutnya mungkin akan menjelaskan lebih lanjut.\n",
        "\n",
        " \n",
        "\n",
        "**Tugas Praktek 3.1**  \n",
        "1. Tampilkan hasil perhitungan (10*2+5) pada baris pertama."
      ]
    },
    {
      "cell_type": "code",
      "metadata": {
        "id": "UVE42BSRq-Ac",
        "colab": {
          "base_uri": "https://localhost:8080/"
        },
        "outputId": "485b5942-6017-4995-84ea-b94081771b98"
      },
      "source": [
        "# Jawab Tugas Praktek 3.1 Nomor 1\n",
        "print(10*2+5)\n"
      ],
      "execution_count": 3,
      "outputs": [
        {
          "output_type": "stream",
          "name": "stdout",
          "text": [
            "25\n"
          ]
        }
      ]
    },
    {
      "cell_type": "markdown",
      "metadata": {
        "id": "KmVhSyrQq_S6"
      },
      "source": [
        "2. tampilkan teks \"2023 Aku kaya mulia\" pada baris kedua."
      ]
    },
    {
      "cell_type": "code",
      "metadata": {
        "id": "Wko-4QrwsBgj",
        "colab": {
          "base_uri": "https://localhost:8080/",
          "height": 35
        },
        "outputId": "f677da2e-0711-46e3-977d-bdd663e991aa"
      },
      "source": [
        "# Jawab Tugas Praktek 3.1 Nomor 2\n",
        "\"2023 Aku kaya mulia\" "
      ],
      "execution_count": 8,
      "outputs": [
        {
          "output_type": "execute_result",
          "data": {
            "application/vnd.google.colaboratory.intrinsic+json": {
              "type": "string"
            },
            "text/plain": [
              "'2023 Aku kaya mulia'"
            ]
          },
          "metadata": {},
          "execution_count": 8
        }
      ]
    },
    {
      "cell_type": "markdown",
      "metadata": {
        "id": "z5MM1FEBrswd"
      },
      "source": [
        "3. Tampilkan teks Nama anda"
      ]
    },
    {
      "cell_type": "code",
      "metadata": {
        "id": "8dylS54Rq_1D",
        "colab": {
          "base_uri": "https://localhost:8080/",
          "height": 35
        },
        "outputId": "66cb9ff7-6311-4eac-d845-4e2bb973368a"
      },
      "source": [
        "# Jawab Tugas Praktek 3.1 Nomor 3\n",
        "\"Tri Ria Handayani\""
      ],
      "execution_count": 13,
      "outputs": [
        {
          "output_type": "execute_result",
          "data": {
            "application/vnd.google.colaboratory.intrinsic+json": {
              "type": "string"
            },
            "text/plain": [
              "'Tri Ria Handayani'"
            ]
          },
          "metadata": {},
          "execution_count": 13
        }
      ]
    }
  ]
}