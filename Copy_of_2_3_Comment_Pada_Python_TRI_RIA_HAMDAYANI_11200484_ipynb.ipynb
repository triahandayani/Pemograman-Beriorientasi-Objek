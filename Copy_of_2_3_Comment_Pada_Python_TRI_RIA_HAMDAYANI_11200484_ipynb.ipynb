{
  "nbformat": 4,
  "nbformat_minor": 0,
  "metadata": {
    "colab": {
      "name": "Copy of 2_3_Comment_Pada_Python.TRI RIA HAMDAYANI-11200484_ipynb",
      "provenance": [],
      "collapsed_sections": []
    },
    "kernelspec": {
      "name": "python3",
      "display_name": "Python 3"
    }
  },
  "cells": [
    {
      "cell_type": "code",
      "metadata": {
        "id": "QChNmnXf_-pE"
      },
      "source": [
        ""
      ],
      "execution_count": null,
      "outputs": []
    },
    {
      "cell_type": "markdown",
      "metadata": {
        "id": "CQqHfxdyArzJ"
      },
      "source": [
        "##Melakukan Comment Pada Python\n",
        "Pada suatu kegiatan membuat code, penting sekali bagi para penulis codenya untuk memberikan sebuah dokumentasi pada penulisan codenya. Mengapa hal itu sangat penting? Sederhana, jika codenya sudah lebih dari ribuan baris dan ada beberapa bagian yang perlu diperbaiki karena suatu perubahan, para penulis code cukup melihat dokumentasinya dan tidak perlu membaca dan memahami seluruh isi code dari awal. Nah, salah satu metode yang biasa digunakan adalah menggunakan comment. Sama dengan Bahasa Python juga menggunakan tanda “#” untuk melakukan comment pada script.\n",
        "\n",
        "Cobalah ketikkan sebuah kalimat seperti di bawah ini beserta commentnya. Kemudian lakukan eksekusi dengan menekan tombol **[Run]**"
      ]
    },
    {
      "cell_type": "code",
      "metadata": {
        "id": "oBXKvs3qA2Xb",
        "colab": {
          "base_uri": "https://localhost:8080/"
        },
        "outputId": "e09fb058-f804-4030-cd63-00070cebd9c9"
      },
      "source": [
        "print(\"Ini adalah sebuah baris kode\")#ini adalah contoh comment dan tidak akan tercetak"
      ],
      "execution_count": null,
      "outputs": [
        {
          "output_type": "stream",
          "name": "stdout",
          "text": [
            "Ini adalah sebuah baris kode\n"
          ]
        }
      ]
    },
    {
      "cell_type": "markdown",
      "metadata": {
        "id": "8yPh4FQWA_DU"
      },
      "source": [
        "Perlu diketahui, comment tidak akan pernah tampil pada hasil melalui console atau GUI. Fungsi comment bisa dikatakan sebagai penanda. Kenapa bab ini diberikan diawal? Harapannya dengan pengetahuan ini setiap kali Anda membuat baris code, bisa diberikan dokumentasi. Dokumentasi sangat penting untuk pengembangan suatu code apabila memang nanti diperlukan.\n",
        "\n",
        "Dokumentasi kode juga berlaku untuk variable. Sangat penting mengetahui bahwa setiap variable berfungsi sebagai apa dan isinya apa. Maka dari itu jangan lupa untuk membuat dan memberi comment untuk setiap kode pada materi kita\n",
        "\n",
        " \n",
        "\n",
        "**Tugas Praktek 3.2**\n",
        "\n",
        "1. Berikan keterangan untuk setiap baris program dengan perintah comment"
      ]
    },
    {
      "cell_type": "code",
      "metadata": {
        "id": "Yy5gqIzRBApb",
        "colab": {
          "base_uri": "https://localhost:8080/"
        },
        "outputId": "5ae763d6-c4f2-41c6-e00b-426f0d240148"
      },
      "source": [
        "#Jawab Tugas Praktek 3.2 Nomor 1\n",
        "\n",
        "print(10*2+5) #fungsi matematika\n",
        "print(\"20\") #fungsi mencetak kalimat"
      ],
      "execution_count": null,
      "outputs": [
        {
          "output_type": "stream",
          "name": "stdout",
          "text": [
            "25\n",
            "20\n"
          ]
        }
      ]
    },
    {
      "cell_type": "markdown",
      "metadata": {
        "id": "PQsFFoqjBJm0"
      },
      "source": [
        "2. Cetak Nama dan NIM anda dilayar berikan comment untuk masing - masing perintah"
      ]
    },
    {
      "cell_type": "code",
      "metadata": {
        "id": "SiToLqkJw3p7",
        "colab": {
          "base_uri": "https://localhost:8080/"
        },
        "outputId": "87ddbd6a-d796-47c9-e1ca-d6f985ed9eb9"
      },
      "source": [
        "#Jawab Tugas Praktek 3.2 Nomor 2\n",
        "\n",
        "print(\"Tri Ria Handayani\") #fungsi nama\n",
        "print(\"11200484\") #fungsi nim"
      ],
      "execution_count": null,
      "outputs": [
        {
          "output_type": "stream",
          "name": "stdout",
          "text": [
            "Tri Ria Handayani\n",
            "11200484\n"
          ]
        }
      ]
    }
  ]
}